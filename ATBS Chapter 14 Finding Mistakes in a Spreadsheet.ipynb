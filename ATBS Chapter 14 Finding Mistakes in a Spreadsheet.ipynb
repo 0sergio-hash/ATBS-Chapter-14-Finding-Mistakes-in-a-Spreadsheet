{
 "cells": [
  {
   "cell_type": "markdown",
   "metadata": {},
   "source": [
    "# [Instructions for this project](https://automatetheboringstuff.com/2e/chapter14/)"
   ]
  },
  {
   "cell_type": "code",
   "execution_count": 1,
   "metadata": {},
   "outputs": [
    {
     "name": "stdout",
     "output_type": "stream",
     "text": [
      "Mistake on row 14399\n",
      "Audit complete.\n"
     ]
    }
   ],
   "source": [
    "# Practice Project: Finding Mistakes in a Spreadsheet\n",
    "import ezsheets \n",
    "\n",
    "ss = ezsheets.Spreadsheet('1jDZEdvSIh4TmZxccyy0ZXrH-ELlrwq8_YYiZrEOB4jg')\n",
    "sheet = ss[0]\n",
    "\n",
    "# Define comparison function\n",
    "def compareTotals(beans, jars, total):\n",
    "    try:\n",
    "        if int(beans) * int(jars) == int(total):\n",
    "            return True\n",
    "        else:\n",
    "            return False\n",
    "    except:\n",
    "        pass\n",
    "        \n",
    "# Get row nums, assign to variable\n",
    "totalRows = sheet.rowCount\n",
    "\n",
    "# Create list variable to append mistakes to\n",
    "mistakes = []\n",
    "\n",
    "# Create a for loop from 2,last row number.  \n",
    "for i in range(2, totalRows): # For each row:\n",
    "    \n",
    "    # Store row number in a variable\n",
    "    rowNum = i\n",
    "    \n",
    "    # Store individual values in variables\n",
    "    beans = sheet.getRow(i)[0]\n",
    "    jars = sheet.getRow(i)[1]\n",
    "    total = sheet.getRow(i)[2]\n",
    "    try:\n",
    "        correctTotal = int(beans) * int(jars)\n",
    "    except:\n",
    "        pass\n",
    "    \n",
    "    # If comparison = False (The values aren't what they should be):\n",
    "    if compareTotals(beans, jars, total) == False:\n",
    "    \n",
    "        # Create mistake dictionary, append it to the mistakes list\n",
    "        mistakeDict = {'Row':i,'Beans':beans,'Jars':jars,'Total':total,'Correct Total':correctTotal}\n",
    "        mistakes.append(mistakeDict)\n",
    "        \n",
    "        # Print mistake\n",
    "        print(f'Mistake on row {i}')\n",
    "    \n",
    "    # If the total is correct:\n",
    "    else:\n",
    "        pass\n",
    "\n",
    "print('Audit complete.')\n",
    "\n",
    "def mistakeReport():\n",
    "    for mistake in mistakes:\n",
    "        for k,v in mistake.items():\n",
    "            print(k + ': ' + str(v))\n",
    "        print()"
   ]
  },
  {
   "cell_type": "code",
   "execution_count": 2,
   "metadata": {},
   "outputs": [
    {
     "name": "stdout",
     "output_type": "stream",
     "text": [
      "Row: 14399\n",
      "Beans: 804\n",
      "Jars: 623\n",
      "Total: 500891\n",
      "Correct Total: 500892\n",
      "\n"
     ]
    }
   ],
   "source": [
    "mistakeReport()"
   ]
  }
 ],
 "metadata": {
  "kernelspec": {
   "display_name": "ibm_project",
   "language": "python",
   "name": "ibm_project"
  },
  "language_info": {
   "codemirror_mode": {
    "name": "ipython",
    "version": 3
   },
   "file_extension": ".py",
   "mimetype": "text/x-python",
   "name": "python",
   "nbconvert_exporter": "python",
   "pygments_lexer": "ipython3",
   "version": "3.7.9"
  }
 },
 "nbformat": 4,
 "nbformat_minor": 4
}
